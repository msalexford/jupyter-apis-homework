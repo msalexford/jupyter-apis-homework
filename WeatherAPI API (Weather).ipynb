{
 "cells": [
  {
   "cell_type": "markdown",
   "metadata": {},
   "source": [
    "# WeatherAPI (Weather)\n",
    "\n",
    "Answer the following questions using [WeatherAPI](http://www.weatherapi.com/). I've added three cells for most questions but you're free to use more or less! Hold `Shift` and hit `Enter` to run a cell, and use the `+` on the top left to add a new cell to a notebook.\n",
    "\n",
    "Be sure to take advantage of both the documentation and the API Explorer!\n",
    "\n",
    "## 0) Import any libraries you might need\n",
    "\n",
    "- *Tip: We're going to be downloading things from the internet, so we probably need `requests`.*\n",
    "- *Tip: Remember you only need to import requests once!*"
   ]
  },
  {
   "cell_type": "code",
   "execution_count": 1,
   "metadata": {},
   "outputs": [],
   "source": [
    "import requests"
   ]
  },
  {
   "cell_type": "markdown",
   "metadata": {
    "collapsed": true
   },
   "source": [
    "## 1) Make a request to the Weather API for where you were born (or lived, or want to visit!).\n",
    "\n",
    "- *Tip: This sure seems familiar.*"
   ]
  },
  {
   "cell_type": "code",
   "execution_count": 2,
   "metadata": {},
   "outputs": [],
   "source": [
    "response = requests.get(\"http://api.weatherapi.com/v1/current.json?key=&q=Baltimore&aqi=no\")"
   ]
  },
  {
   "cell_type": "code",
   "execution_count": 3,
   "metadata": {},
   "outputs": [],
   "source": [
    "baltimore_weather = response.json()"
   ]
  },
  {
   "cell_type": "markdown",
   "metadata": {},
   "source": [
    "## 2) What's the current wind speed, and how much warmer does it feel than it actually is?\n",
    "\n",
    "- *Tip: You can do this by browsing through the dictionaries, but it might be easier to read the documentation*\n",
    "- *Tip: For the second half: it **is** one temperature, and it **feels** a different temperature. Calculate the difference. Same as we did last time!*"
   ]
  },
  {
   "cell_type": "code",
   "execution_count": 28,
   "metadata": {},
   "outputs": [
    {
     "name": "stdout",
     "output_type": "stream",
     "text": [
      "dict_keys(['location', 'current'])\n"
     ]
    }
   ],
   "source": [
    "# print(baltimore_weather.keys())"
   ]
  },
  {
   "cell_type": "code",
   "execution_count": 29,
   "metadata": {},
   "outputs": [
    {
     "name": "stdout",
     "output_type": "stream",
     "text": [
      "The current wind speed is 7.2 mph\n"
     ]
    }
   ],
   "source": [
    "print(\"The current wind speed is\", baltimore_weather['current']['wind_mph'], \"mph\")"
   ]
  },
  {
   "cell_type": "code",
   "execution_count": 40,
   "metadata": {},
   "outputs": [],
   "source": [
    "temp_is = baltimore_weather['current']['temp_f']"
   ]
  },
  {
   "cell_type": "code",
   "execution_count": 38,
   "metadata": {},
   "outputs": [],
   "source": [
    "temp_feels_like = baltimore_weather['current']['feelslike_f']"
   ]
  },
  {
   "cell_type": "code",
   "execution_count": 323,
   "metadata": {},
   "outputs": [],
   "source": [
    "temp_diff = round(temp_feels_like - temp_is, 3)"
   ]
  },
  {
   "cell_type": "code",
   "execution_count": 324,
   "metadata": {},
   "outputs": [
    {
     "name": "stdout",
     "output_type": "stream",
     "text": [
      "It feels around 2.9 degrees warmer than it actually is\n"
     ]
    }
   ],
   "source": [
    "print(\"It feels around\", temp_diff, \"degrees warmer than it actually is\")"
   ]
  },
  {
   "cell_type": "markdown",
   "metadata": {},
   "source": [
    "## 3) What is the API endpoint for moon-related information? For the place you decided on above, how much of the moon will be visible on next Thursday?\n",
    "\n",
    "- *Tip: Check the documentation!*\n",
    "- *Tip: If you aren't sure what something means, ask in Slack*"
   ]
  },
  {
   "cell_type": "code",
   "execution_count": 49,
   "metadata": {},
   "outputs": [],
   "source": [
    "response = requests.get(\"http://api.weatherapi.com/v1/astronomy.json?key=&q=Baltimore&dt=2021-06-22\")"
   ]
  },
  {
   "cell_type": "code",
   "execution_count": 48,
   "metadata": {},
   "outputs": [],
   "source": [
    "baltimore_moon = response.json()"
   ]
  },
  {
   "cell_type": "code",
   "execution_count": 50,
   "metadata": {},
   "outputs": [
    {
     "name": "stdout",
     "output_type": "stream",
     "text": [
      "On Tuesday, June 22, the moon will be in a Waxing Gibbous phase\n"
     ]
    }
   ],
   "source": [
    "print(\"On Tuesday, June 22, the moon will be in a\", baltimore_moon['astronomy']['astro']['moon_phase'], \"phase\")"
   ]
  },
  {
   "cell_type": "markdown",
   "metadata": {},
   "source": [
    "## 4) What's the difference between the high and low temperatures for today?\n",
    "\n",
    "- *Tip: When you requested moon data, you probably overwrote your variables! If so, you'll need to make a new request.*"
   ]
  },
  {
   "cell_type": "code",
   "execution_count": 58,
   "metadata": {},
   "outputs": [],
   "source": [
    "response = requests.get(\"http://api.weatherapi.com/v1/forecast.json?key=&q=Baltimore&aqi=no\")"
   ]
  },
  {
   "cell_type": "code",
   "execution_count": 59,
   "metadata": {},
   "outputs": [],
   "source": [
    "baltimore_forecast = response.json()"
   ]
  },
  {
   "cell_type": "code",
   "execution_count": 107,
   "metadata": {},
   "outputs": [],
   "source": [
    "# baltimore_forecast.keys()"
   ]
  },
  {
   "cell_type": "code",
   "execution_count": 81,
   "metadata": {},
   "outputs": [],
   "source": [
    "forecast = baltimore_forecast['forecast']"
   ]
  },
  {
   "cell_type": "code",
   "execution_count": 83,
   "metadata": {},
   "outputs": [],
   "source": [
    "forecastday = forecast['forecastday']"
   ]
  },
  {
   "cell_type": "code",
   "execution_count": 99,
   "metadata": {},
   "outputs": [],
   "source": [
    "hightemp = forecastday[0]['day']['maxtemp_f']"
   ]
  },
  {
   "cell_type": "code",
   "execution_count": 100,
   "metadata": {},
   "outputs": [],
   "source": [
    "lowtemp = forecastday[0]['day']['mintemp_f']"
   ]
  },
  {
   "cell_type": "code",
   "execution_count": 325,
   "metadata": {},
   "outputs": [],
   "source": [
    "tempdiff = round(abs(hightemp - lowtemp), 3)"
   ]
  },
  {
   "cell_type": "code",
   "execution_count": 326,
   "metadata": {},
   "outputs": [
    {
     "name": "stdout",
     "output_type": "stream",
     "text": [
      "The difference between the high temperature and the low temperature is 18.2 degrees F\n"
     ]
    }
   ],
   "source": [
    "print(\"The difference between the high temperature and the low temperature is\", tempdiff, \"degrees F\")"
   ]
  },
  {
   "cell_type": "markdown",
   "metadata": {
    "collapsed": true
   },
   "source": [
    "## 4.5) How can you avoid the \"oh no I don't have the data any more because I made another request\" problem in the future?\n",
    "\n",
    "What variable(s) do you have to rename, and what would you rename them?"
   ]
  },
  {
   "cell_type": "code",
   "execution_count": null,
   "metadata": {},
   "outputs": [],
   "source": [
    "# Clarify weather vs. forecast. Maybe weather today and weather forecast or something?"
   ]
  },
  {
   "cell_type": "code",
   "execution_count": null,
   "metadata": {},
   "outputs": [],
   "source": [
    "# Should we be naming the \"response\" variable something unique?"
   ]
  },
  {
   "cell_type": "markdown",
   "metadata": {},
   "source": [
    "## 5) Go through the daily forecasts, printing out the next week's worth of predictions.\n",
    "\n",
    "I'd like to know the **high temperature** for each day, and whether it's **hot, warm, or cold** (based on what temperatures you think are hot, warm or cold).\n",
    "\n",
    "- *Tip: You'll need to use an `if` statement to say whether it is hot, warm or cold.*"
   ]
  },
  {
   "cell_type": "code",
   "execution_count": 207,
   "metadata": {},
   "outputs": [],
   "source": [
    "response = requests.get(\"http://api.weatherapi.com/v1/forecast.json?key=&q=Baltimore&days=7&aqi=no&alerts=no\")"
   ]
  },
  {
   "cell_type": "code",
   "execution_count": 208,
   "metadata": {},
   "outputs": [],
   "source": [
    "wk_forecast = response.json()"
   ]
  },
  {
   "cell_type": "code",
   "execution_count": 209,
   "metadata": {},
   "outputs": [
    {
     "data": {
      "text/plain": [
       "dict_keys(['location', 'current', 'forecast'])"
      ]
     },
     "execution_count": 209,
     "metadata": {},
     "output_type": "execute_result"
    }
   ],
   "source": [
    "wk_forecast.keys()"
   ]
  },
  {
   "cell_type": "code",
   "execution_count": 139,
   "metadata": {},
   "outputs": [],
   "source": [
    "# print(wk_forecast['forecast']['forecastday'])"
   ]
  },
  {
   "cell_type": "code",
   "execution_count": 197,
   "metadata": {},
   "outputs": [],
   "source": [
    "# Everything I try returns this error: 'list indices must be integers or slices, not str'"
   ]
  },
  {
   "cell_type": "code",
   "execution_count": 289,
   "metadata": {},
   "outputs": [],
   "source": [
    "wk_forecast_day = wk_forecast['forecast']['forecastday']"
   ]
  },
  {
   "cell_type": "code",
   "execution_count": 327,
   "metadata": {},
   "outputs": [],
   "source": [
    "#print(wk_forecast_day)"
   ]
  },
  {
   "cell_type": "code",
   "execution_count": 328,
   "metadata": {
    "scrolled": true
   },
   "outputs": [],
   "source": [
    "# Stuck"
   ]
  },
  {
   "cell_type": "markdown",
   "metadata": {},
   "source": [
    "# 6) What will be the hottest day in the next week? What is the high temperature on that day?"
   ]
  },
  {
   "cell_type": "code",
   "execution_count": null,
   "metadata": {
    "collapsed": true
   },
   "outputs": [],
   "source": []
  },
  {
   "cell_type": "code",
   "execution_count": null,
   "metadata": {
    "collapsed": true
   },
   "outputs": [],
   "source": []
  },
  {
   "cell_type": "code",
   "execution_count": null,
   "metadata": {
    "collapsed": true
   },
   "outputs": [],
   "source": []
  },
  {
   "cell_type": "markdown",
   "metadata": {},
   "source": [
    "## 7) What's the weather looking like for the next 24+ hours in Miami, Florida?\n",
    "\n",
    "I'd like to know the temperature for every hour, and if it's going to have cloud cover of more than 50% say \"{temperature} and cloudy\" instead of just the temperature. \n",
    "\n",
    "- *Tip: You'll only need one day of forecast*"
   ]
  },
  {
   "cell_type": "code",
   "execution_count": 216,
   "metadata": {},
   "outputs": [],
   "source": [
    "response = requests.get(\"http://api.weatherapi.com/v1/forecast.json?key=&q=miami&days=1&aqi=no&alerts=no\")"
   ]
  },
  {
   "cell_type": "code",
   "execution_count": 217,
   "metadata": {},
   "outputs": [],
   "source": [
    "miami = response.json()"
   ]
  },
  {
   "cell_type": "code",
   "execution_count": 232,
   "metadata": {},
   "outputs": [
    {
     "data": {
      "text/plain": [
       "dict_keys(['location', 'current', 'forecast'])"
      ]
     },
     "execution_count": 232,
     "metadata": {},
     "output_type": "execute_result"
    }
   ],
   "source": [
    "miami.keys()"
   ]
  },
  {
   "cell_type": "code",
   "execution_count": null,
   "metadata": {},
   "outputs": [],
   "source": [
    "# I'm having a lot of trouble printing items from lists."
   ]
  },
  {
   "cell_type": "code",
   "execution_count": null,
   "metadata": {},
   "outputs": [],
   "source": [
    "# For everything I try, I get this error: \"list indices must be integers or slices, not str\"."
   ]
  },
  {
   "cell_type": "code",
   "execution_count": null,
   "metadata": {},
   "outputs": [],
   "source": [
    "# According to the internet, this is the error response when you have a list of dictionaries."
   ]
  },
  {
   "cell_type": "code",
   "execution_count": null,
   "metadata": {},
   "outputs": [],
   "source": [
    "# I need to iterate the list and then get the values from each item."
   ]
  },
  {
   "cell_type": "code",
   "execution_count": 255,
   "metadata": {},
   "outputs": [],
   "source": [
    "miami_hours = miami['forecast']"
   ]
  },
  {
   "cell_type": "code",
   "execution_count": 265,
   "metadata": {},
   "outputs": [],
   "source": [
    "#for item in miami_hours['forecastday']:\n",
    "#    print(item['hour'])"
   ]
  },
  {
   "cell_type": "code",
   "execution_count": 264,
   "metadata": {},
   "outputs": [],
   "source": [
    "# ^^ Prints, but when I try to add an additional variable after 'hour', I get an error message."
   ]
  },
  {
   "cell_type": "code",
   "execution_count": 281,
   "metadata": {},
   "outputs": [
    {
     "name": "stdout",
     "output_type": "stream",
     "text": [
      "At 2021-06-20 00:00 the temperature will be 82.9 degrees F and cloudy\n",
      "At 2021-06-20 01:00 the temperature will be 82.9 degrees F and cloudy\n",
      "At 2021-06-20 02:00 the temperature will be 82.9 degrees F and cloudy\n",
      "At 2021-06-20 03:00 the temperature will be 82.8 degrees F and cloudy\n",
      "At 2021-06-20 04:00 the temperature will be 82.4 degrees F and cloudy\n",
      "At 2021-06-20 05:00 the temperature will be 82.2 degrees F and cloudy\n",
      "At 2021-06-20 06:00 the temperature will be 82.4 degrees F and cloudy\n",
      "At 2021-06-20 07:00 the temperature will be 82.8 degrees F and cloudy\n",
      "At 2021-06-20 08:00 the temperature will be 82.9 degrees F and cloudy\n",
      "At 2021-06-20 09:00 the temperature will be 83.5 degrees F and cloudy\n",
      "At 2021-06-20 10:00 the temperature will be 84.2 degrees F and cloudy\n",
      "At 2021-06-20 11:00 the temperature will be 84.7 degrees F and cloudy\n",
      "At 2021-06-20 12:00 the temperature will be 84.9 degrees F and cloudy\n",
      "At 2021-06-20 13:00 the temperature will be 85.1 degrees F and cloudy\n",
      "At 2021-06-20 14:00 the temperature will be 85.3 degrees F and cloudy\n",
      "At 2021-06-20 15:00 the temperature will be 85.3 degrees F and cloudy\n",
      "At 2021-06-20 16:00 the temperature will be 85.3 degrees F and cloudy\n",
      "At 2021-06-20 17:00 the temperature will be 85.3 degrees F and cloudy\n",
      "At 2021-06-20 18:00 the temperature will be 84.9 degrees F and cloudy\n",
      "At 2021-06-20 19:00 the temperature will be 84.6 degrees F and cloudy\n",
      "At 2021-06-20 20:00 the temperature will be 84.2 degrees F and cloudy\n",
      "At 2021-06-20 21:00 the temperature will be 83.8 degrees F and cloudy\n",
      "At 2021-06-20 22:00 the temperature will be 83.5 degrees F and cloudy\n",
      "At 2021-06-20 23:00 the temperature will be 83.1 degrees F and cloudy\n"
     ]
    }
   ],
   "source": [
    "for item in miami_hours['forecastday']:\n",
    "    for hour in item['hour']:\n",
    "        if hour['cloud'] > 50:\n",
    "            print(\"At\", hour['time'], \"the temperature will be\", hour['temp_f'], \"degrees F\", \"and cloudy\")\n",
    "        if hour['cloud'] < 50:\n",
    "            print(\"At\", hour['time'], \"the temperature will be\", hour['temp_f'], \"degrees F\")"
   ]
  },
  {
   "cell_type": "code",
   "execution_count": null,
   "metadata": {},
   "outputs": [],
   "source": [
    "# I cannot believe I did that!"
   ]
  },
  {
   "cell_type": "markdown",
   "metadata": {},
   "source": [
    "# 8) For the next 24-ish hours in Miami, what percent of the time is the temperature above 85 degrees?\n",
    "\n",
    "- *Tip: You might want to read up on [looping patterns](http://jonathansoma.com/lede/foundations-2017/classes/data%20structures/looping-patterns/)*"
   ]
  },
  {
   "cell_type": "code",
   "execution_count": 294,
   "metadata": {},
   "outputs": [
    {
     "name": "stdout",
     "output_type": "stream",
     "text": [
      "2021-06-20 13:00 will be over 85 degrees\n",
      "2021-06-20 14:00 will be over 85 degrees\n",
      "2021-06-20 15:00 will be over 85 degrees\n",
      "2021-06-20 16:00 will be over 85 degrees\n",
      "2021-06-20 17:00 will be over 85 degrees\n"
     ]
    }
   ],
   "source": [
    "for item in miami_hours['forecastday']:\n",
    "    for hour in item['hour']:\n",
    "        if hour['temp_f'] > 85:\n",
    "            print(hour['time'], \"will be over 85 degrees\")"
   ]
  },
  {
   "cell_type": "code",
   "execution_count": 297,
   "metadata": {},
   "outputs": [],
   "source": [
    "# The below code gives the error, \"'>' not supported between instances of 'dict' and 'int'\"\n",
    "\n",
    "#total = 0\n",
    "\n",
    "#for item in miami_hours['forecastday']:\n",
    "#    for hour in item['hour']:\n",
    "#        if hour['temp_f'] > 85:\n",
    "#            total = total + hour"
   ]
  },
  {
   "cell_type": "code",
   "execution_count": null,
   "metadata": {
    "collapsed": true
   },
   "outputs": [],
   "source": [
    "# Trying a new way:"
   ]
  },
  {
   "cell_type": "code",
   "execution_count": 313,
   "metadata": {},
   "outputs": [
    {
     "name": "stdout",
     "output_type": "stream",
     "text": [
      "5\n"
     ]
    }
   ],
   "source": [
    "total_over_85 = 0\n",
    "\n",
    "for item in miami_hours['forecastday']:\n",
    "    for hour in item['hour']:\n",
    "        if hour[\"temp_f\"] > 85:\n",
    "            total_over_85 += 1\n",
    "\n",
    "print(total_over_85)"
   ]
  },
  {
   "cell_type": "code",
   "execution_count": 314,
   "metadata": {},
   "outputs": [
    {
     "name": "stdout",
     "output_type": "stream",
     "text": [
      "24\n"
     ]
    }
   ],
   "source": [
    "total = 0\n",
    "\n",
    "for item in miami_hours['forecastday']:\n",
    "    for hour in item['hour']:\n",
    "        total += 1\n",
    "\n",
    "print(total)"
   ]
  },
  {
   "cell_type": "code",
   "execution_count": 321,
   "metadata": {},
   "outputs": [],
   "source": [
    "avg = round(total_over_85 / total, 3)"
   ]
  },
  {
   "cell_type": "code",
   "execution_count": 322,
   "metadata": {},
   "outputs": [
    {
     "name": "stdout",
     "output_type": "stream",
     "text": [
      "the temperature in miami will be over 85 degrees 0.208 percent of the time\n"
     ]
    }
   ],
   "source": [
    "print(\"the temperature in miami will be over 85 degrees\", avg, \"percent of the time\")"
   ]
  },
  {
   "cell_type": "markdown",
   "metadata": {},
   "source": [
    "## 9) What was the temperature in Central Park on Christmas Day, 2020? How about 2012? 2007? How far back does the API allow you to go?\n",
    "\n",
    "- *Tip: You'll need to use latitude/longitude. You can ask Google where Central Park is, it knows*\n",
    "- *Tip: Remember when latitude/longitude might use negative numbers*"
   ]
  },
  {
   "cell_type": "code",
   "execution_count": null,
   "metadata": {
    "collapsed": true
   },
   "outputs": [],
   "source": [
    "# \"API key is limited to get history data. Please check our pricing page and upgrade to higher plan.\""
   ]
  },
  {
   "cell_type": "code",
   "execution_count": null,
   "metadata": {
    "collapsed": true
   },
   "outputs": [],
   "source": [
    "# Limited to June 14 of 2021."
   ]
  },
  {
   "cell_type": "code",
   "execution_count": null,
   "metadata": {
    "collapsed": true
   },
   "outputs": [],
   "source": []
  }
 ],
 "metadata": {
  "kernelspec": {
   "display_name": "Python 3",
   "language": "python",
   "name": "python3"
  },
  "language_info": {
   "codemirror_mode": {
    "name": "ipython",
    "version": 3
   },
   "file_extension": ".py",
   "mimetype": "text/x-python",
   "name": "python",
   "nbconvert_exporter": "python",
   "pygments_lexer": "ipython3",
   "version": "3.8.10"
  }
 },
 "nbformat": 4,
 "nbformat_minor": 1
}
